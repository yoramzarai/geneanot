{
 "cells": [
  {
   "cell_type": "markdown",
   "metadata": {},
   "source": [
    "# Introduction\n",
    "\n",
    "GeneAnot provides eukaryotes gene annotation based on [Ensembl](https://www.ensembl.org/index.html).\n",
    "\n",
    "GeneAnot requires:\n",
    "1. An Ensembl annotation file. \n",
    "2. Some of the features require a chromosome Fasta file. \n",
    "\n",
    "The package provides functions to download the Ensembl annotation file to a local folder, which will be used by the package. If a local annotation file exists, the package can also check if there is a new version in Ensembl and download it.\n",
    "\n",
    "The user must designate a folder that holds the Ensembl annotation file (or that will be used by the package to download the Ensembl annotation file to). This is defined below by the variable `Annotation_folder`.\n",
    "\n",
    "The chromosome Fasta files (which are required only by some of the features) can be downloaded from Ensembl. For example, for Homo spaiens (and for version 113), these are located in\n",
    "`https://ftp.ensembl.org/pub/release-113/fasta/homo_sapiens/dna/` (the required files are the `Homo_sapiens.GRCh38.dna_sm.chromosome.<chromosome number>.fa.gz`, e.g. `Homo_sapiens.GRCh38.dna_sm.chromosome.1.fa.gz` for chromosome 1). \n",
    "Note that the Fasta files **must** contain equal number of bps per row for all rows (except possibly the last row), as this is assumed by the package to support fast random access query. The Ensembl chromosome Fasta files comply with this.\n",
    "\n",
    "The following sections provide useful usage examples.\n",
    "\n"
   ]
  },
  {
   "cell_type": "code",
   "execution_count": null,
   "metadata": {},
   "outputs": [],
   "source": [
    "from pathlib import Path\n",
    "import geneanot as u\n",
    "\n",
    "# folder that holds (or will hold) the Ensembl annotation file. Can be an empty folder.\n",
    "Annotation_folder: Path = Path('./../AnnotationDB')"
   ]
  },
  {
   "cell_type": "markdown",
   "metadata": {},
   "source": [
    "# Human Gene Annotation\n",
    "\n",
    "We start with examples of annotating Homo sapiens genes and transcripts."
   ]
  },
  {
   "cell_type": "markdown",
   "metadata": {},
   "source": [
    "## Informative\n",
    "This is not required for actual annotation. It just provides information about the local and remote (Ensembl) annotation files."
   ]
  },
  {
   "cell_type": "code",
   "execution_count": null,
   "metadata": {},
   "outputs": [],
   "source": [
    "# Check for Ensembl annotation files in the local folder\n",
    "if (local_files := u.get_annotation_files_info_in_folder(Annotation_folder)):\n",
    "    versions = list(local_files.keys())\n",
    "    print(f\"Found {len(local_files)} annotation files in {Annotation_folder}. {versions=}, maximal version = {max(versions)}.\")\n",
    "else:\n",
    "    print(f\"No annotation file in {Annotation_folder}.\")\n",
    "\n",
    "# check Ensembl latest version\n",
    "ensembl_version = u.get_ensembl_release()\n",
    "print(f\"Ensembl latest version is {ensembl_version}.\")"
   ]
  },
  {
   "cell_type": "markdown",
   "metadata": {},
   "source": [
    "## Annotate"
   ]
  },
  {
   "cell_type": "markdown",
   "metadata": {},
   "source": [
    "### Initialize the Annotation Folder\n",
    "This is required if:\n",
    "- the local annotation folder does not contain an annotation file, as it will download the annotation file from Ensembl site, or\n",
    "- we want to update the local annotation file to the lastest annotation file\n",
    "\n",
    "Otherwise, this can be ignored, and `annotation_full_file` must be set by the user, and must point to a valid annotation file. "
   ]
  },
  {
   "cell_type": "code",
   "execution_count": null,
   "metadata": {},
   "outputs": [],
   "source": [
    "enable_download: bool = False  # enables/disables annotation file download from Ensembl only when local version < ensembl version.\n",
    "                               # If Annotation_folder does not contain anotation file, the download is done regardless of this setting.\n",
    "# ------------------------------------------------------------------------------------------------------------------------------------\n",
    "download_done, ensembl_file, local_file = u.update_local_release_to_latest(Annotation_folder, \n",
    "                                                                           enable_download=enable_download)\n",
    "annotation_full_file = Annotation_folder / (ensembl_file if download_done else local_file)\n",
    "print(f\"Annotation file to use: {annotation_full_file}.\\n\")"
   ]
  },
  {
   "cell_type": "markdown",
   "metadata": {},
   "source": [
    "### Instantiate the Annotation Class\n",
    "\n",
    "The instantiation is a bit slow, as the package prepares several data structures from the annotation file. We will see later another (faster) way to instantiate the annotation class, which is more relevant in cases where we are interested to annotation many genes."
   ]
  },
  {
   "cell_type": "code",
   "execution_count": null,
   "metadata": {},
   "outputs": [],
   "source": [
    "gene: str = 'EGFR'  # gene name or gene ID\n",
    "verbose: bool = True  # set to True to get informative prints\n",
    "# -----------------------------------------------------------\n",
    "gA = u.Gene_cls(gene, annotation_full_file, verbose=verbose)"
   ]
  },
  {
   "cell_type": "markdown",
   "metadata": {},
   "source": [
    "### General Gene Information"
   ]
  },
  {
   "cell_type": "code",
   "execution_count": null,
   "metadata": {},
   "outputs": [],
   "source": [
    "# print general gene information\n",
    "gA.info()\n",
    "\n",
    "print(f\"\\n{gene} contains {len(gA)} transcripts.\")\n",
    "gA.show_all_transcript_IDs()\n",
    "\n",
    "print(f\"\\nGene start = {gA.gene_start:,}, gene end = {gA.gene_end:,}.\")\n",
    "\n",
    "print(f\"\\n{gene=} encoded on the {'negative' if gA.rev else 'positive'} DNA strand.\")"
   ]
  },
  {
   "cell_type": "code",
   "execution_count": null,
   "metadata": {},
   "outputs": [],
   "source": [
    "# the various gene attributes printed above are also accessible by gA\n",
    "print(gA.gene_name, gA.gene_ID, gA.gene_desc, gA.gene_type, gA.gene_ver, gA.rev, gA.chrm, gA.gene_start, gA.gene_end, len(gA.transcripts_info), sep='\\n')\n"
   ]
  },
  {
   "cell_type": "markdown",
   "metadata": {},
   "source": [
    "### Transcript Annotation\n",
    "\n",
    "Here we annotate a single transcript of the gene."
   ]
  },
  {
   "cell_type": "code",
   "execution_count": null,
   "metadata": {},
   "outputs": [],
   "source": [
    "transcript_id: str = 'ENST00000275493'\n",
    "# -----------------------------------\n",
    "# print transcript information\n",
    "gA.transcript_info(transcript_id, verbose=True)\n",
    "\n",
    "# the transcript features are accessible via gA.transcripts_info[transcript_id], for example\n",
    "t_info = gA.transcripts_info[transcript_id]\n",
    "print('\\n', t_info['transcript_name'], t_info['transcript_v_id'], t_info['transcript_ver'])\n",
    "\n",
    "# all available features (i.e., t_info[feature])\n",
    "available_transcript_features = ''.join(f\"{i}. {feature}\\n\" for i, feature in zip(range(1, len(t_info)+1), t_info.keys()))\n",
    "print(f\"\\nThe transcript accessible features are:\\n{available_transcript_features}\")\n"
   ]
  },
  {
   "cell_type": "markdown",
   "metadata": {},
   "source": [
    "Regarding the exon phases: \n",
    "- exon end phase is the exon phase of the next exon.\n",
    "- conversion from exon phase to CDS phase: 0-->0, 1-->2, 2-->1."
   ]
  },
  {
   "cell_type": "code",
   "execution_count": null,
   "metadata": {},
   "outputs": [],
   "source": [
    "# Transcript table - exon and intron table.\n",
    "df = gA.exon_intron_map(transcript_id)\n",
    "display(df)\n",
    "\n",
    "# the transcript table can be written to excel, CSV or HTML file\n",
    "gA.exon_intron_map_to_csv(transcript_id, './../Reports/transcript_table.csv')\n",
    "gA.exon_intron_map_to_excel(transcript_id, './../Reports/transcript_table.xlsx', usr_desc={\"Description\": \"Transcript table\", \"Transcript\": transcript_id})\n",
    "gA.exon_intron_map_to_html(transcript_id, './../Reports/transcript_table.html')"
   ]
  },
  {
   "cell_type": "code",
   "execution_count": null,
   "metadata": {},
   "outputs": [],
   "source": [
    "# mRNA table - maps the ORF to the mRNA sequence.\n",
    "df = gA.exon_map(transcript_id)\n",
    "display(df)\n",
    "\n",
    "# similarly to exon_intron_map() above, this table can also we written to excel, CSV or HTML file\n",
    "gA.exon_map_to_csv(transcript_id, './../Reports/mRNA_table.csv')\n",
    "gA.exon_map_to_excel(transcript_id, './../Reports/mRNA_table.xlsx', usr_desc={\"Description\": \"mRNA table\", \"Transcript\": transcript_id})\n",
    "gA.exon_map_to_html(transcript_id, './../Reports/mRNA_table.html')"
   ]
  },
  {
   "cell_type": "markdown",
   "metadata": {},
   "source": [
    "#### Sequences\n",
    "\n",
    "Here we retrieve the different transcript sequences (e.g., mRNA sequence, AA sequence, etc.). This requires the corresponding chromosome Fasta file."
   ]
  },
  {
   "cell_type": "code",
   "execution_count": null,
   "metadata": {},
   "outputs": [],
   "source": [
    "# replace this with your chromosome fasta file\n",
    "chrm_fasta_file: str = f'./../Chromosome/Homo_sapiens.GRCh38.dna_sm.chromosome.{gA.chrm}.fa'"
   ]
  },
  {
   "cell_type": "code",
   "execution_count": null,
   "metadata": {},
   "outputs": [],
   "source": [
    "pre_mRNA_seq = gA.seq(transcript_id, chrm_fasta_file).upper()\n",
    "print(f\"The pre-mRNA sequence contains {len(pre_mRNA_seq):,} bps.\")\n",
    "\n",
    "rna_seq = gA.rna(transcript_id, chrm_fasta_file).upper()\n",
    "print(f\"\\nrna:\\n{rna_seq}\")\n",
    "\n",
    "orf_seq = gA.ORF(transcript_id, chrm_fasta_file).upper()\n",
    "print(f\"\\norf:\\n{orf_seq}\")\n",
    "\n",
    "aa_seq = gA.AA(transcript_id, chrm_fasta_file)\n",
    "print(f\"\\nprotein:\\n{aa_seq}\")\n",
    "\n",
    "utr5_seq = gA.UTR5(transcript_id, chrm_fasta_file).upper()\n",
    "print(f\"\\n5'UTR:\\n{utr5_seq}\")\n",
    "\n",
    "utr3_seq = gA.UTR3(transcript_id, chrm_fasta_file).upper()\n",
    "print(f\"\\n3'UTR=\\n{utr3_seq}\")\n",
    "\n",
    "# An Exon sequence\n",
    "exon_number: int = 5\n",
    "exon_seq, seq_info = gA.exon_intron_seq('Exon', exon_number, transcript_id, chrm_fasta_file)\n",
    "print(f\"\\nExon #{exon_number}:\\n{exon_seq}\\n{seq_info}\")\n",
    "\n",
    "# An Intron sequence\n",
    "intron_number: int = 5\n",
    "intron_seq, seq_info = gA.exon_intron_seq('Intron', intron_number, transcript_id, chrm_fasta_file)\n",
    "print(f\"\\nIntron #{intron_number} contains {len(intron_seq):,} bps.\\n{seq_info.upper()}\")\n",
    "\n",
    "# modified transcript - based on a list of exons and introns\n",
    "use_exon_list: list[int] = [1, 3]  # exon numbers to use\n",
    "use_intron_list: list[int] = [2]  # intron numbers to use\n",
    "m_seq = gA.modified_transcript(use_exon_list, use_intron_list, transcript_id, chrm_fasta_file)\n",
    "print(f\"\\nA modified transcript containing exons {', '.join(map(str,use_exon_list))} and introns {', '.join(map(str,use_intron_list))} contains {len(m_seq.upper()):,} bps.\")"
   ]
  },
  {
   "cell_type": "markdown",
   "metadata": {},
   "source": [
    "#### Queries\n",
    "Some of the queries require the chromosome Fasta file.\n",
    "\n",
    "All positions below are 1-based positions (unless otherwise noticed)."
   ]
  },
  {
   "cell_type": "code",
   "execution_count": null,
   "metadata": {},
   "outputs": [],
   "source": [
    "# query a start and a stop codon positions in the chromosome and the RNA\n",
    "start_codon_info, stop_codon_info = gA.start_and_stop_codons_pos(transcript_id)\n",
    "# each _info contains (chromosome_position_of_first_bp_of_codon, RNA_position_of_first_bp_of_codon)\n",
    "print(f\"{start_codon_info=}\\n{stop_codon_info=}\")"
   ]
  },
  {
   "cell_type": "code",
   "execution_count": null,
   "metadata": {},
   "outputs": [],
   "source": [
    "# query a start and an end ORF positions in the exons\n",
    "# (i.e., the exon index and the offset within the exon of the \n",
    "# first bp of the start codon and the last bp of the stop codon)\n",
    "orf_start_end_info = gA.orf_start_and_end_exon_info(transcript_id)\n",
    "# here, 'exon_number' value is 1-based, 'exon_offset' is 0-based\n",
    "print(orf_start_end_info)"
   ]
  },
  {
   "cell_type": "code",
   "execution_count": null,
   "metadata": {},
   "outputs": [],
   "source": [
    "# query a chromosome position\n",
    "chrm_pos: int = 55_157_663\n",
    "# ---------------------------\n",
    "chrm_info = gA.chrm_pos_info(transcript_id, chrm_pos, chrm_fasta_file)\n",
    "print(chrm_info)"
   ]
  },
  {
   "cell_type": "code",
   "execution_count": null,
   "metadata": {},
   "outputs": [],
   "source": [
    "# map a chromosome position to the RNA position\n",
    "chrm_pos: int = 55_211_628 \n",
    "# ------------------------\n",
    "if (rna_pos := gA.chrm_pos2rna_pos(transcript_id, chrm_pos)) is None:\n",
    "    print(f\"{chrm_pos=:,} does not overlap with RNA.\")\n",
    "else:\n",
    "    print(f\"{chrm_pos=:,} --> {rna_pos=:,}\")"
   ]
  },
  {
   "cell_type": "code",
   "execution_count": null,
   "metadata": {},
   "outputs": [],
   "source": [
    "# map a RNA position to the chromosome position\n",
    "rna_pos: int = 685\n",
    "# ----------------\n",
    "chrm_p = gA.rna_pos2chrm_pos(transcript_id, rna_pos, chrm_fasta_file)\n",
    "print(f\"{rna_pos=} --> {chrm_p=}\")"
   ]
  },
  {
   "cell_type": "code",
   "execution_count": null,
   "metadata": {},
   "outputs": [],
   "source": [
    "# query a RNA position\n",
    "rna_pos: int = 685\n",
    "# ----------------\n",
    "chrm_info = gA.rna_pos2chrm_info(transcript_id, rna_pos, chrm_fasta_file)\n",
    "print(chrm_info)"
   ]
  },
  {
   "cell_type": "code",
   "execution_count": null,
   "metadata": {},
   "outputs": [],
   "source": [
    "# query an exon position\n",
    "exon_number: int = 7\n",
    "nt_number: int = 47\n",
    "# -------------------\n",
    "info = gA.exon_nt_info(transcript_id, exon_number, nt_number, chrm_fasta_file)\n",
    "print(info)"
   ]
  },
  {
   "cell_type": "code",
   "execution_count": null,
   "metadata": {},
   "outputs": [],
   "source": [
    "# query an exon segment\n",
    "exon_number: int = 28\n",
    "bp_index_in_exon: int = 400\n",
    "# --------------------------\n",
    "if (exon_segment_info := gA.exon_nt_segment(transcript_id, exon_number, bp_index_in_exon)) is not None:\n",
    "    print(f\"bp #{bp_index_in_exon} in exon #{exon_number} corresponds to bp #{exon_segment_info[1]:,} in the {exon_segment_info[0]}.\")"
   ]
  },
  {
   "cell_type": "code",
   "execution_count": null,
   "metadata": {},
   "outputs": [],
   "source": [
    "# query an amino-acid position\n",
    "aa_number: int = 163\n",
    "# ------------------\n",
    "aa_info = gA.aa_exon_info(transcript_id, aa_number, chrm_fasta_file)\n",
    "print(aa_info)"
   ]
  },
  {
   "cell_type": "markdown",
   "metadata": {},
   "source": [
    "The `codon_exon_pos` is a list of 3 positions, each in the form \\<exon number>:\\<pos>.\n",
    "pos in the 1-based position relative to the start of exon \\<exon number>. The corresponding\n",
    "chromosome position is then exon_start_coordinate+m*(pos-1), where m=1 [m=-1] for genes encoded on\n",
    "the positive [negative] DNA strand (in genes encoded on the negative strand, \n",
    "exon_start_coordinate>exon_end_coordinate)."
   ]
  },
  {
   "cell_type": "code",
   "execution_count": null,
   "metadata": {},
   "outputs": [],
   "source": [
    "# query an AA variant given a DNA variant\n",
    "ref_allele, var_allele, chromosome_pos = 'G', 'C', 55_152_609\n",
    "# ------------------------------------------------------------\n",
    "aa_var = gA.DNA_SNP_mut_to_AA_mut(ref_allele, var_allele, chromosome_pos, transcript_id, chrm_fasta_file)\n",
    "print(f\"chr{gA.chrm}:{chromosome_pos}:{ref_allele}>{var_allele} --> {aa_var=}\")\n"
   ]
  },
  {
   "cell_type": "code",
   "execution_count": null,
   "metadata": {},
   "outputs": [],
   "source": [
    "# query (all) DNA variants based on an AA variant\n",
    "aa_var: str = 'C231S'\n",
    "# -------------------\n",
    "dna_all_muts = gA.AA_mut_to_DNA_SNP_mut(aa_var, transcript_id, chrm_fasta_file)\n",
    "print(f\"{aa_var=} corresponds to the following DNA variants:\")\n",
    "for i, (codon, var_info) in enumerate(dna_all_muts.items(), start=1):\n",
    "    print(f\"{i}. {codon=}, {var_info}\")\n"
   ]
  },
  {
   "cell_type": "markdown",
   "metadata": {},
   "source": [
    "## Annotating Multiple Genes\n",
    "A faster instantiation of the annotation class, which is relevant for example when annotating multiple genes, can be done using annotation dataframes that are generated from the annotation file as shown here."
   ]
  },
  {
   "cell_type": "code",
   "execution_count": null,
   "metadata": {},
   "outputs": [],
   "source": [
    "# first, parse the annotation file into annotation dataframes\n",
    "gff3_dfs = u.ensembl_gff3_df(annotation_full_file)  "
   ]
  },
  {
   "cell_type": "code",
   "execution_count": null,
   "metadata": {},
   "outputs": [],
   "source": [
    "# now instantiate with the annotation dataframes (faster)\n",
    "g_a1 = u.Gene_cls('IDH1', gff3_dfs)\n",
    "g_a1.info()\n",
    "g_a2 = u.Gene_cls('BRCA1', gff3_dfs)\n",
    "g_a2.info()\n",
    "g_a3 = u.Gene_cls('EGFR', gff3_dfs)\n",
    "g_a3.info()"
   ]
  },
  {
   "cell_type": "markdown",
   "metadata": {},
   "source": [
    "# Annotating Other Eukaryotes Species\n",
    "The default usage of the package is for Homo sapiens. To annotate other Eukaryotes species, the user must also define:\n",
    "- The annotation file signature\n",
    "- The Ensembl FTP URL\n",
    "\n",
    "The annotation file signature is identical to the annotation file name, except that the version number is replaced by `XXX`. For example, the signature for the annotation file of Mus musculus is `Mus_musculus.GRCm39.XXX.gff3.gz`. In general, an annotation file can be found in [Ensembl](http://www.ensembl.org/index.html) -> Select a species -> in the `Gene annotation` section select `GFF3`.\n",
    "\n",
    "The Ensembl FTP URL is `rsync://ftp.ebi.ac.uk/ensemblorg/pub/current_gff3/<species>`, where `<species>` is the required species. For example, the FTP URL or Mus musculus is `rsync://ftp.ebi.ac.uk/ensemblorg/pub/current_gff3/mus_musculus`\n",
    "\n",
    "\n",
    "Following is an example for annotating a `Mus musculus` gene and transcript."
   ]
  },
  {
   "cell_type": "code",
   "execution_count": null,
   "metadata": {},
   "outputs": [],
   "source": [
    "# Annotation file signature\n",
    "annotation_file_signature: str = 'Mus_musculus.GRCm39.XXX.gff3.gz' \n",
    "\n",
    "# Ensembl FTP URL\n",
    "ensembl_url: str = 'rsync://ftp.ebi.ac.uk/ensemblorg/pub/current_gff3/mus_musculus'\n"
   ]
  },
  {
   "cell_type": "code",
   "execution_count": null,
   "metadata": {},
   "outputs": [],
   "source": [
    "# Informative\n",
    "# Check for local Ensembl annotation files - Informative\n",
    "if (local_files := u.get_annotation_files_info_in_folder(Annotation_folder, gff3_pattern=annotation_file_signature)):\n",
    "    versions = list(local_files.keys())\n",
    "    max_ver = max(versions)\n",
    "    print(f\"Found {len(local_files)} annotation files in {Annotation_folder}. {versions=}, maximal version = {max_ver}.\")\n",
    "else:\n",
    "    print(f\"No annotation file in {Annotation_folder}. Need to download from Ensembl.\")\n",
    "\n",
    "# check Ensembl version - Informative\n",
    "ensembl_version = u.get_ensembl_release()\n",
    "print(f\"{ensembl_version=}.\")"
   ]
  },
  {
   "cell_type": "code",
   "execution_count": null,
   "metadata": {},
   "outputs": [],
   "source": [
    "enable_download: bool = False  # enables/disables annotation file download from Ensembl only when local version < ensembl version.\n",
    "                               # If Annotation_folder contains no anotation file, download is done regardless of this setting.\n",
    "# ------------------------------------------------------------------------------------------------------------------------------\n",
    "download_done, ensembl_file, local_file = u.update_local_release_to_latest(Annotation_folder, \n",
    "                                                                           enable_download=enable_download, \n",
    "                                                                           gff3_pattern=annotation_file_signature,\n",
    "                                                                           ensembl_url=ensembl_url)\n",
    "annotation_full_file = Annotation_folder / (ensembl_file if download_done else local_file)\n",
    "print(f\"Annotation file to use: {annotation_full_file}.\\n\")"
   ]
  },
  {
   "cell_type": "code",
   "execution_count": null,
   "metadata": {},
   "outputs": [],
   "source": [
    "gene: str = 'ENSMUSG00000017167' # 'Cntnap1'  # gene name or gene ID\n",
    "verbose: bool = True  # set to True to get infromation prints\n",
    "# -----------------------------------------------------------------\n",
    "gA = u.Gene_cls(gene, annotation_full_file, verbose=verbose)\n"
   ]
  },
  {
   "cell_type": "code",
   "execution_count": null,
   "metadata": {},
   "outputs": [],
   "source": [
    "gA.info()\n",
    "\n",
    "print(f\"\\n{gene} contains {len(gA)} transcripts.\")\n",
    "gA.show_all_transcript_IDs()\n",
    "\n",
    "print(f\"\\nGene start = {gA.gene_start:,}, gene end = {gA.gene_end:,}\")"
   ]
  },
  {
   "cell_type": "code",
   "execution_count": null,
   "metadata": {},
   "outputs": [],
   "source": [
    "transcript_id: str = 'ENSMUST00000103109'\n",
    "print(f\"\\n{transcript_id=} annotation:\")\n",
    "\n",
    "if (ts_te := gA.transcript_boundaries(transcript_id)) is None:\n",
    "    raise ValueError(f\"{transcript_id} is not a transcript of {gene} !!\")\n",
    "ts, te = ts_te\n",
    "print(f\"start site (TSS) = {ts:,}, end site (TES) = {te:,}.\")"
   ]
  },
  {
   "cell_type": "code",
   "execution_count": null,
   "metadata": {},
   "outputs": [],
   "source": [
    "df = gA.exon_map(transcript_id)\n",
    "print(df.to_string())"
   ]
  }
 ],
 "metadata": {
  "kernelspec": {
   "display_name": ".venv",
   "language": "python",
   "name": "python3"
  },
  "language_info": {
   "codemirror_mode": {
    "name": "ipython",
    "version": 3
   },
   "file_extension": ".py",
   "mimetype": "text/x-python",
   "name": "python",
   "nbconvert_exporter": "python",
   "pygments_lexer": "ipython3",
   "version": "3.10.15"
  }
 },
 "nbformat": 4,
 "nbformat_minor": 2
}
